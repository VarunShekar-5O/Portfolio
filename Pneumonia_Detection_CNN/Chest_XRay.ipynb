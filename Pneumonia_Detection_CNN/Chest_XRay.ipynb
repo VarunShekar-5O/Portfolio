{
 "cells": [
  {
   "cell_type": "code",
   "execution_count": null,
   "id": "47fc6597",
   "metadata": {},
   "outputs": [],
   "source": [
    "import numpy as np\n",
    "import cv2\n",
    "import pathlib\n",
    "\n",
    "import tensorflow as tf\n",
    "import matplotlib.pyplot as plt\n",
    "\n",
    "#data obtained from https://www.kaggle.com/datasets/paultimothymooney/chest-xray-pneumonia/data"
   ]
  },
  {
   "cell_type": "code",
   "execution_count": null,
   "id": "46df5baf",
   "metadata": {},
   "outputs": [],
   "source": [
    "training_image_dir = \"./Pneumonia_dataset/chest_xray/train\"\n",
    "test_img_dir = \"./Pneumonia_dataset/chest_xray/test\"\n",
    "val_img_dir = \"./Pneumonia_dataset/chest_xray/val\""
   ]
  },
  {
   "cell_type": "code",
   "execution_count": null,
   "id": "321967ce",
   "metadata": {},
   "outputs": [],
   "source": [
    "datagen = tf.keras.preprocessing.image.ImageDataGenerator(rescale=1./255.)\n",
    "\n",
    "train_iter = datagen.flow_from_directory(training_image_dir, batch_size = 8, target_size = (1024,1024))\n",
    "val_iter = datagen.flow_from_directory(val_img_dir, batch_size=8, target_size=(1024, 1024))\n",
    "test_iter = datagen.flow_from_directory(test_img_dir, batch_size=8, target_size=(1024, 1024))\n",
    "\n",
    "train_images, train_labels = next(train_iter)\n",
    "test_images, test_labels = next(test_iter)\n",
    "print('Batch shape=%s, min=%.3f, max=%.3f' % (train_images.shape, train_images.min(), train_images.max()))"
   ]
  },
  {
   "cell_type": "code",
   "execution_count": null,
   "id": "6871a4b5",
   "metadata": {},
   "outputs": [],
   "source": [
    "def build_cnn():\n",
    "    model = tf.keras.Sequential()\n",
    "    model.add(tf.keras.layers.Conv2D(64, (3, 3), activation='relu', strides=(2,2), input_shape=(1024, 1024, 3)))\n",
    "    model.add(tf.keras.layers.MaxPooling2D((2, 2)))\n",
    "    model.add(tf.keras.layers.Conv2D(32, (3, 3), strides=(2,2),activation='relu'))\n",
    "    model.add(tf.keras.layers.MaxPooling2D((2, 2)))\n",
    "    model.add(tf.keras.layers.Conv2D(16, (3, 3), strides=(2,2),activation='relu'))\n",
    "    model.add(tf.keras.layers.Flatten())\n",
    "    model.add(tf.keras.layers.Dense(16, activation='relu'))\n",
    "    model.add(tf.keras.layers.Dense(2, activation='softmax'))\n",
    "    return model\n",
    "\n",
    "model = build_cnn()"
   ]
  },
  {
   "cell_type": "code",
   "execution_count": null,
   "id": "afe26b10",
   "metadata": {},
   "outputs": [],
   "source": [
    "model.compile(optimizer='adam', \n",
    "              loss='categorical_crossentropy', \n",
    "              metrics=['accuracy'])"
   ]
  },
  {
   "cell_type": "code",
   "execution_count": null,
   "id": "3b995ed7",
   "metadata": {},
   "outputs": [],
   "source": [
    "history = model.fit(train_iter, \n",
    "                    epochs=100,\n",
    "                    validation_data=test_iter, \n",
    "                    validation_steps=32)"
   ]
  },
  {
   "cell_type": "code",
   "execution_count": null,
   "id": "2d7f16a9",
   "metadata": {},
   "outputs": [],
   "source": [
    "print(history.history.keys())\n",
    "\n",
    "plt.plot(history.history['accuracy'], label='accuracy')\n",
    "plt.plot(history.history['val_accuracy'], label = 'val_accuracy') \n",
    "plt.plot(history.history['loss'], label='loss')\n",
    "plt.plot(history.history['val_loss'], label = 'val_loss')\n",
    "\n",
    "plt.xlabel('Epoch')\n",
    "plt.ylabel('Metrics')\n",
    "plt.ylim([0.5, 1])\n",
    "plt.legend(loc='lower right')\n",
    "plt.show()\n",
    "\n",
    "test_loss, test_acc = model.evaluate(test_images,  test_labels, verbose=2)\n",
    "\n",
    "print(test_acc)"
   ]
  }
 ],
 "metadata": {
  "kernelspec": {
   "display_name": "venv_aiml",
   "language": "python",
   "name": "python3"
  },
  "language_info": {
   "codemirror_mode": {
    "name": "ipython",
    "version": 3
   },
   "file_extension": ".py",
   "mimetype": "text/x-python",
   "name": "python",
   "nbconvert_exporter": "python",
   "pygments_lexer": "ipython3",
   "version": "3.12.9"
  }
 },
 "nbformat": 4,
 "nbformat_minor": 5
}
