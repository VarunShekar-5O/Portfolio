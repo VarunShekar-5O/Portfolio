{
 "cells": [
  {
   "cell_type": "code",
   "execution_count": null,
   "id": "47fc6597",
   "metadata": {},
   "outputs": [],
   "source": [
    "import numpy as np\n",
    "import cv2\n",
    "import pathlib\n",
    "import os \n",
    "\n",
    "import tensorflow as tf\n",
    "\n",
    "print(tf.__version__)\n",
    "print(tf.keras.__version__)\n",
    "\n",
    "import matplotlib.pyplot as plt\n",
    "\n",
    "#data obtained from https://www.kaggle.com/datasets/paultimothymooney/chest-xray-pneumonia/data"
   ]
  },
  {
   "cell_type": "code",
   "execution_count": null,
   "id": "46df5baf",
   "metadata": {},
   "outputs": [],
   "source": [
    "train_dir = \"./Pneumonia_dataset/chest_xray/train\"\n",
    "test_dir = \"./Pneumonia_dataset/chest_xray/test\"\n",
    "val_dir = \"./Pneumonia_dataset/chest_xray/val\""
   ]
  },
  {
   "cell_type": "markdown",
   "id": "e8e6beeb",
   "metadata": {},
   "source": [
    "## TRY 1"
   ]
  },
  {
   "cell_type": "code",
   "execution_count": null,
   "id": "321967ce",
   "metadata": {},
   "outputs": [],
   "source": [
    "datagen = tf.keras.preprocessing.image.ImageDataGenerator(\n",
    "            rescale=1./255)\n",
    "\n",
    "train_iter = datagen.flow_from_directory(train_dir, \n",
    "                                        batch_size = 8, \n",
    "                                        target_size = (1024,1024))\n",
    "val_iter = datagen.flow_from_directory(test_dir, \n",
    "                                        batch_size=8, \n",
    "                                        target_size=(1024, 1024))\n",
    "test_iter = datagen.flow_from_directory(val_dir, \n",
    "                                        batch_size=8, \n",
    "                                        target_size=(1024, 1024))\n",
    "\n",
    "train_images, train_labels = next(train_iter)\n",
    "test_images, test_labels = next(test_iter)\n",
    "print('Batch shape=%s, min=%.3f, max=%.3f' % (train_images.shape, train_images.min(), train_images.max()))"
   ]
  },
  {
   "cell_type": "code",
   "execution_count": null,
   "id": "6871a4b5",
   "metadata": {},
   "outputs": [],
   "source": [
    "def build_cnn():\n",
    "    model = tf.keras.Sequential()\n",
    "    model.add(tf.keras.layers.Conv2D(64, (3, 3), activation='relu', strides=(2,2), input_shape=(1024, 1024, 3)))\n",
    "    model.add(tf.keras.layers.MaxPooling2D((2, 2)))\n",
    "    model.add(tf.keras.layers.Conv2D(32, (3, 3), strides=(2,2),activation='relu'))\n",
    "    model.add(tf.keras.layers.MaxPooling2D((2, 2)))\n",
    "    model.add(tf.keras.layers.Conv2D(16, (3, 3), strides=(2,2),activation='relu'))\n",
    "    model.add(tf.keras.layers.Flatten())\n",
    "    model.add(tf.keras.layers.Dense(16, activation='relu'))\n",
    "    model.add(tf.keras.layers.Dense(2, activation='softmax'))\n",
    "    return model\n",
    "\n",
    "model = build_cnn()"
   ]
  },
  {
   "cell_type": "code",
   "execution_count": null,
   "id": "afe26b10",
   "metadata": {},
   "outputs": [],
   "source": [
    "model.compile(optimizer='adam', \n",
    "              loss='categorical_crossentropy', \n",
    "              metrics=['accuracy'])"
   ]
  },
  {
   "cell_type": "code",
   "execution_count": null,
   "id": "3b995ed7",
   "metadata": {},
   "outputs": [],
   "source": [
    "history = model.fit(train_iter, \n",
    "                    epochs=100,\n",
    "                    validation_data=test_iter, \n",
    "                    validation_steps=32)"
   ]
  },
  {
   "cell_type": "code",
   "execution_count": null,
   "id": "2d7f16a9",
   "metadata": {},
   "outputs": [],
   "source": [
    "print(history.history.keys())\n",
    "\n",
    "plt.plot(history.history['accuracy'], label='accuracy')\n",
    "plt.plot(history.history['val_accuracy'], label = 'val_accuracy') \n",
    "plt.plot(history.history['loss'], label='loss')\n",
    "plt.plot(history.history['val_loss'], label = 'val_loss')\n",
    "\n",
    "plt.xlabel('Epoch')\n",
    "plt.ylabel('Metrics')\n",
    "plt.ylim([0.5, 1])\n",
    "plt.legend(loc='lower right')\n",
    "plt.show()\n",
    "\n",
    "test_loss, test_acc = model.evaluate(test_images,  test_labels, verbose=2)\n",
    "\n",
    "print(test_acc)"
   ]
  },
  {
   "cell_type": "markdown",
   "id": "92113863",
   "metadata": {},
   "source": [
    "## TRY 2"
   ]
  },
  {
   "cell_type": "code",
   "execution_count": null,
   "id": "e9143560",
   "metadata": {},
   "outputs": [],
   "source": [
    "from tensorflow.keras.preprocessing.image import ImageDataGenerator\n",
    "from tensorflow.keras import layers\n",
    "from tensorflow.keras import Model\n",
    "from tensorflow.keras.optimizers import RMSprop"
   ]
  },
  {
   "cell_type": "code",
   "execution_count": null,
   "id": "47095353",
   "metadata": {},
   "outputs": [],
   "source": [
    "train_datagen = ImageDataGenerator(\n",
    "                        rescale=1./255,\n",
    "                        rotation_range=40,\n",
    "                        width_shift_range=0.2,\n",
    "                        height_shift_range=0.2,\n",
    "                        shear_range=0.2,\n",
    "                        zoom_range=0.2,\n",
    "                        horizontal_flip=True)\n",
    "\n",
    "test_datagen = ImageDataGenerator(rescale=1.0/255.)\n",
    "\n",
    "train_generator = train_datagen.flow_from_directory(\n",
    "        train_dir,\n",
    "        batch_size=20,\n",
    "        class_mode='binary',\n",
    "        target_size=(1024, 1024))\n",
    "\n",
    "validation_generator = test_datagen.flow_from_directory(\n",
    "        val_dir,\n",
    "        batch_size=20,\n",
    "        class_mode='binary',\n",
    "        target_size=(1024, 1024))\n",
    "\n",
    "model = tf.keras.models.Sequential([\n",
    "        layers.Conv2D(32, (3,3), activation='relu', input_shape=(1024, 1024, 3)),\n",
    "        layers.MaxPooling2D(2,2),\n",
    "        layers.Conv2D(64, (3,3), activation='relu'),\n",
    "        layers.MaxPooling2D(2,2),\n",
    "        layers.Conv2D(128, (3,3), activation='relu'),\n",
    "        layers.MaxPooling2D(2,2),\n",
    "        layers.Conv2D(128, (3,3), activation='relu'),\n",
    "        layers.MaxPooling2D(2,2),\n",
    "        layers.Flatten(),\n",
    "        layers.Dense(512, activation='relu'),\n",
    "        layers.Dense(1, activation='sigmoid')\n",
    "])\n",
    "\n",
    "model.compile(loss='binary_crossentropy',\n",
    "                optimizer=RMSprop(learning_rate=0.001),\n",
    "                metrics=['accuracy'])"
   ]
  },
  {
   "cell_type": "code",
   "execution_count": null,
   "id": "6f7f7e65",
   "metadata": {},
   "outputs": [],
   "source": [
    "history = model.fit(\n",
    "        train_generator,\n",
    "        validation_data=validation_generator,\n",
    "        steps_per_epoch=100,\n",
    "        epochs=20,\n",
    "        validation_steps=50,\n",
    "        verbose=3)"
   ]
  },
  {
   "cell_type": "code",
   "execution_count": null,
   "id": "5b4c81cf",
   "metadata": {},
   "outputs": [],
   "source": [
    "classes = [\"NORMAL\", \"PNEUMONIA\"]\n",
    "image_dimensions = [1024, 1024]\n",
    "\n",
    "# Predict the class of the input image from the loaded model\n",
    "for file in os.listdir(val_dir):\n",
    "    image_dir = os.path.join(val_dir, file)\n",
    "    if os.path.isdir(image_dir):\n",
    "        for img in os.listdir(image_dir):\n",
    "            image_path = os.path.join(image_dir, img)\n",
    "            image = tf.io.read_file(image_path)\n",
    "            image = tf.io.decode_image(image, channels=3)\n",
    "            image = tf.image.resize(image, image_dimensions)\n",
    "            image = image / 255.0  # Normalize pixel values between 0 and 1\n",
    "            image = tf.expand_dims(image, axis=0)  # Add batch dimension\n",
    "            predicted = model(image)\n",
    "            max_probability = np.max(predicted)\n",
    "            max_index = np.argmax(predicted)\n",
    "            print(\"Image:\", image_path, \" Predicted\", classes[max_index], \" Actual:\", file, \" Probability: \", max_probability)"
   ]
  }
 ],
 "metadata": {
  "kernelspec": {
   "display_name": "venv_aiml",
   "language": "python",
   "name": "python3"
  },
  "language_info": {
   "codemirror_mode": {
    "name": "ipython",
    "version": 3
   },
   "file_extension": ".py",
   "mimetype": "text/x-python",
   "name": "python",
   "nbconvert_exporter": "python",
   "pygments_lexer": "ipython3",
   "version": "3.12.9"
  }
 },
 "nbformat": 4,
 "nbformat_minor": 5
}
